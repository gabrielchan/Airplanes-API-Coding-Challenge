{
 "cells": [
  {
   "cell_type": "markdown",
   "metadata": {},
   "source": [
    "# Airplanes API Question from Jason Sinn\n",
    "\n",
    "Create an API `def closestN(airplane_coordinates: Array[(x, y)], airplane_loc: (x, y), num_airplanes: Int): Array[(x, y)]` where `type((x, y)) = tuple(int, int))`. cloestN will take the airplane coordinates and a airport location, then return the number of airplanes closest to the airport\n",
    "\n",
    "## Clarifications\n",
    "1. `airplane_coordinates` is not sorted\n",
    "2. Use Cartesian Distance\n",
    "3. x, y can be negative numbers\n",
    "4. Resulting array's order does not matter\n",
    "5. (New!) Don't use the DataFrame structure"
   ]
  },
  {
   "cell_type": "markdown",
   "metadata": {},
   "source": [
    "## Rough Notes from Gabe\n",
    "- A high-level solution would be to calculate all the cartesian distance of every coordinate (keeping track of the minimum while going through) at O(n), then tracing the results again for the minimum"
   ]
  },
  {
   "cell_type": "markdown",
   "metadata": {},
   "source": [
    "# Code"
   ]
  },
  {
   "cell_type": "markdown",
   "metadata": {},
   "source": [
    "## Sample Data"
   ]
  },
  {
   "cell_type": "code",
   "execution_count": 1,
   "metadata": {
    "jupyter": {
     "source_hidden": true
    }
   },
   "outputs": [],
   "source": [
    "test_input_1 = [\n",
    "    (0, 1),\n",
    "    (1, 0),\n",
    "    (0, -1),\n",
    "    (-1, 0),\n",
    "    (1, 1),\n",
    "    (1, -1),\n",
    "    (-1, 1),\n",
    "    (-1, -1)\n",
    "]\n",
    "result_input_1 = [\n",
    "    (0, 1),\n",
    "    (1, 0),\n",
    "    (0, -1),\n",
    "    (-1, 0),\n",
    "    (1, 1),\n",
    "    (1, -1),\n",
    "    (-1, 1),\n",
    "    (-1, -1)\n",
    "]\n",
    "test_origin_1 = (0, 0)"
   ]
  },
  {
   "cell_type": "code",
   "execution_count": 2,
   "metadata": {
    "jupyter": {
     "source_hidden": true
    }
   },
   "outputs": [],
   "source": [
    "test_input_2 = [\n",
    "    (100, 12),\n",
    "    (1, 1),\n",
    "    (5, 10),\n",
    "    (3, 2)\n",
    "]\n",
    "test_origin_2 = (0, 0)"
   ]
  },
  {
   "cell_type": "markdown",
   "metadata": {},
   "source": [
    "## Global Imports"
   ]
  },
  {
   "cell_type": "code",
   "execution_count": 3,
   "metadata": {},
   "outputs": [],
   "source": [
    "import pandas as pd"
   ]
  },
  {
   "cell_type": "code",
   "execution_count": 4,
   "metadata": {},
   "outputs": [],
   "source": [
    "import numpy as np"
   ]
  },
  {
   "cell_type": "markdown",
   "metadata": {},
   "source": [
    "## General Functions"
   ]
  },
  {
   "cell_type": "code",
   "execution_count": 5,
   "metadata": {},
   "outputs": [],
   "source": [
    "def euclidean_distance(p, q):\n",
    "    return np.sqrt(np.square(q[0] - p[0]) + np.square(q[1] - p[1]))"
   ]
  },
  {
   "cell_type": "markdown",
   "metadata": {},
   "source": [
    "# Solution 2\n",
    "\n",
    "Iterate through the list of airplane coordinates at O(n) and calculate it's distance. For the first m = num_airplanes, store (coordinate, distance) into a **max-heap** where priority is set by distance. This is so we can peak the element with the greatest distance in the heap of length m at O(1) time, and insert/delete things at O(log(n)) time. After the first m length prio_queue is made, you just iterate through the rest of the coordinates and update the priority_queue respectively\n",
    "\n",
    "## Notes\n",
    "- Python offers heappq as a library, however it specifically in Py, it is a min-heap\n",
    "- Should look into heap / bst implementation options then implement your own Priority Queue\n",
    "- Using a Max Heap > Priority Queue as a Priority Queue is an abstraction ontop of a Max Heap, but all we need is the max at any given time and swap it out as needed"
   ]
  },
  {
   "cell_type": "markdown",
   "metadata": {},
   "source": [
    "## Max Heap Implementation"
   ]
  },
  {
   "cell_type": "code",
   "execution_count": 7,
   "metadata": {},
   "outputs": [],
   "source": [
    "class MaxHeap():\n",
    "    def __init__(self, capacity):\n",
    "        self.capacity = capacity # Note that capacity != len(list), rather its the max index\n",
    "        self.size = 0\n",
    "        self.items = [0] * self.capacity #inits a list of 0s where len() == self.capacity. This is why we need to set our own size\n",
    "    \n",
    "    # Retrieval \n",
    "    def get_parent_index(self, i):\n",
    "        return (i-2)//2\n",
    "    \n",
    "    def get_left_child_index(self, i):\n",
    "        return i*2+1\n",
    "    \n",
    "    def get_right_child_index(self, i):\n",
    "        return i*2-1\n",
    "    \n",
    "    def get_parent(self, i):\n",
    "        return self.items[self.get_parent_index(i)]\n",
    "    \n",
    "    def get_left_child(self, i):\n",
    "        return self.items[self.get_left_child_index(i)]\n",
    "    \n",
    "    def get_right_child(self, i):\n",
    "        return self.items[self.get_right_child_index(i)]\n",
    "    \n",
    "    # Inspection\n",
    "    def peak(self):\n",
    "        return self.items[0]\n",
    "    \n",
    "    def has_parent(self, i):\n",
    "        return self.get_parent_index(i) >= 0\n",
    "    \n",
    "    def has_left_child(self, i):\n",
    "        return self.get_left_child_index(i) < self.size\n",
    "    \n",
    "    def has_right_child(self, i):\n",
    "        return self.get_right_child_index(i) < self.size\n",
    "    \n",
    "    # Internal\n",
    "    def is_full(self):\n",
    "        return self.size == self.capacity\n",
    "    \n",
    "    def swap(self, i_1, i_2):\n",
    "        temp = self.items[i_1]\n",
    "        self.items[i_1] = self.items[i_2]\n",
    "        self.items[i_2] = temp\n",
    "    \n",
    "    def bubble_up(self, i):\n",
    "        if self.has_parent(i) and self.items[i] > self.get_parent(i):\n",
    "            parent_i = self.get_parent_index(i)\n",
    "            self.swap(i, parent_i)\n",
    "            self.bubble_up(parent_i)\n",
    "    \n",
    "    def bubble_down(self, i):\n",
    "        max_i = i\n",
    "        if self.has_left_child(max_i) and self.items[max_i] < self.get_left_child(i):\n",
    "            max_i = self.get_left_child_index(i)\n",
    "        if self.has_right_child(max_i) and self.items[max_i] < self.get_right_child(i):\n",
    "            max_i = self.get_right_child_index(i)\n",
    "        if max_i != i:\n",
    "            self.swap(i, max_i)\n",
    "            self.bubble_down(max_i)\n",
    "                \n",
    "    # Insert\n",
    "    def insert(self, item):\n",
    "        if self.is_full():\n",
    "            raise('Heap is full')\n",
    "        self.items[self.size] = item\n",
    "        self.size += 1\n",
    "        self.bubble_up(self.size - 1)\n",
    "        \n",
    "    # Remove\n",
    "    def remove_max(self):\n",
    "        if self.size == 0:\n",
    "            raise('Heap is empty')\n",
    "        self.items[0] = self.items[self.size - 1]\n",
    "        self.size -= 1\n",
    "        self.bubble_down(0)"
   ]
  },
  {
   "cell_type": "markdown",
   "metadata": {},
   "source": [
    "## Airplane Object and Heap Inheritance"
   ]
  },
  {
   "cell_type": "code",
   "execution_count": 8,
   "metadata": {},
   "outputs": [],
   "source": [
    "class AirplaneObject():\n",
    "    def __init__(self, coords, dist):\n",
    "        self.coords = coords #tuple(int, int)\n",
    "        self.dist = dist #int\n",
    "        \n",
    "    def get_coords(self):\n",
    "        return self.coords\n",
    "    \n",
    "    def get_dist(self):\n",
    "        return self.dist\n",
    "    \n",
    "    def set_coords(self, new_coords):\n",
    "        self.coords = new_coords\n",
    "        \n",
    "    def set_dist(self, new_dist):\n",
    "        self.dist = new_dist"
   ]
  },
  {
   "cell_type": "code",
   "execution_count": 24,
   "metadata": {},
   "outputs": [],
   "source": [
    "class AirplanesHeap(MaxHeap):\n",
    "    def __str__(self):\n",
    "        return '{' + str(self.get_coords) + ', ' + str(self.get_dist) + '}'\n",
    "    \n",
    "    def bubble_up(self, i):\n",
    "        if self.has_parent(i):\n",
    "            if type(self.get_parent(i)) == int:\n",
    "                parent_heap_val = self.get_parent(i)\n",
    "            else:\n",
    "                parent_heap_val = self.get_parent(i).get_dist()\n",
    "            if self.items[i].get_dist() > parent_heap_val:\n",
    "                parent_i = self.get_parent_index(i)\n",
    "                self.swap(i, parent_i)\n",
    "                self.bubble_up(parent_i)\n",
    "                \n",
    "    def bubble_down(self, i):\n",
    "        max_i = i\n",
    "        if self.has_left_child(max_i):\n",
    "            if type(self.get_left_child(i)) == int:\n",
    "                left_heap_val = self.get_left_child(i)\n",
    "            else:\n",
    "                left_heap_val = self.get_left_child(i).get_dist()\n",
    "            if self.items[max_i].get_dist() < left_heap_val:\n",
    "                max_i = self.get_left_child_index(i)\n",
    "        if self.has_right_child(max_i):\n",
    "            if type(self.get_right_child(i)) == int:\n",
    "                right_heap_val = self.get_right_child(i)\n",
    "            else:\n",
    "                right_heap_val = self.get_right_child(i).get_dist()\n",
    "            if self.items[max_i].get_dist() < right_heap_val:\n",
    "                max_i = self.get_right_child_index(i)\n",
    "        if max_i != i:\n",
    "            self.swap(i, max_i)\n",
    "            self.bubble_down(max_i)\n",
    "    \n",
    "    def get_list_coordinates(self):\n",
    "        coords_list = []\n",
    "        for obj in self.items:\n",
    "            print(obj.get_coords())\n",
    "            coords_list.append(obj.get_coords())\n",
    "        return coords_list"
   ]
  },
  {
   "cell_type": "markdown",
   "metadata": {},
   "source": [
    "## ClosestN & Helpers"
   ]
  },
  {
   "cell_type": "code",
   "execution_count": 30,
   "metadata": {},
   "outputs": [],
   "source": [
    "def closestN(airplane_coordinates, airplane_loc, num_airplanes):\n",
    "    if len(airplane_coordinates) < num_airplanes:\n",
    "        num_airplanes = len(airplane_coordinates)\n",
    "    max_airplane_heap = AirplanesHeap(num_airplanes) # O(n)\n",
    "    for plane_tuple in airplane_coordinates: # O(nlog(n)) = O(n) + 2O(log(n))\n",
    "        plane_dist = euclidean_distance(plane_tuple, airplane_loc) \n",
    "        print(max_airplane_heap.is_full())\n",
    "        if not(max_airplane_heap.is_full()):\n",
    "            max_airplane_heap.insert(AirplaneObject(plane_tuple, plane_dist)) # O(log(n))\n",
    "        else:\n",
    "            if max_airplane_heap.peak().get_dist() > plane_dist:\n",
    "                max_airplane_heap.remove_max() # O(log(n))\n",
    "                max_airplane_heap.insert(AirplaneObject(plane_tuple, plane_dist)) # O(log(n))\n",
    "    return max_airplane_heap.get_list_coordinates()"
   ]
  }
 ],
 "metadata": {
  "kernelspec": {
   "display_name": "Python 3",
   "language": "python",
   "name": "python3"
  },
  "language_info": {
   "codemirror_mode": {
    "name": "ipython",
    "version": 3
   },
   "file_extension": ".py",
   "mimetype": "text/x-python",
   "name": "python",
   "nbconvert_exporter": "python",
   "pygments_lexer": "ipython3",
   "version": "3.8.5"
  }
 },
 "nbformat": 4,
 "nbformat_minor": 5
}
