{
 "cells": [
  {
   "cell_type": "markdown",
   "metadata": {},
   "source": [
    "# Airplanes API Question from Jason Sinn\n",
    "\n",
    "Create an API `def closestN(airplane_coordinates: Array[(x, y)], airplane_loc: (x, y), num_airplanes: Int): Array[(x, y)]` where `type((x, y)) = tuple(int, int))`. cloestN will take the airplane coordinates and a airport location, then return the number of airplanes closest to the airport\n",
    "\n",
    "## Clarifications\n",
    "1. `airplane_coordinates` is not sorted\n",
    "2. Use Cartesian Distance\n",
    "3. x, y can be negative numbers\n",
    "4. Resulting array's order does not matter\n",
    "5. (New!) Don't use the DataFrame structure"
   ]
  },
  {
   "cell_type": "markdown",
   "metadata": {},
   "source": [
    "## Rough Notes from Gabe\n",
    "- A high-level solution would be to calculate all the cartesian distance of every coordinate (keeping track of the minimum while going through) at O(n), then tracing the results again for the minimum"
   ]
  },
  {
   "cell_type": "markdown",
   "metadata": {},
   "source": [
    "# Code"
   ]
  },
  {
   "cell_type": "markdown",
   "metadata": {},
   "source": [
    "## Sample Data"
   ]
  },
  {
   "cell_type": "code",
   "execution_count": 1,
   "metadata": {},
   "outputs": [],
   "source": [
    "test_input_1 = [\n",
    "    (0, 1),\n",
    "    (1, 0),\n",
    "    (0, -1),\n",
    "    (-1, 0),\n",
    "    (1, 1),\n",
    "    (1, -1),\n",
    "    (-1, 1),\n",
    "    (-1, -1)\n",
    "]\n",
    "result_input_1 = [\n",
    "    (0, 1),\n",
    "    (1, 0),\n",
    "    (0, -1),\n",
    "    (-1, 0),\n",
    "    (1, 1),\n",
    "    (1, -1),\n",
    "    (-1, 1),\n",
    "    (-1, -1)\n",
    "]\n",
    "test_origin_1 = (0, 0)"
   ]
  },
  {
   "cell_type": "markdown",
   "metadata": {},
   "source": [
    "## Global Imports"
   ]
  },
  {
   "cell_type": "code",
   "execution_count": 2,
   "metadata": {},
   "outputs": [],
   "source": [
    "import pandas as pd"
   ]
  },
  {
   "cell_type": "code",
   "execution_count": 3,
   "metadata": {},
   "outputs": [],
   "source": [
    "import numpy as np"
   ]
  },
  {
   "cell_type": "markdown",
   "metadata": {},
   "source": [
    "## General Functions"
   ]
  },
  {
   "cell_type": "code",
   "execution_count": 6,
   "metadata": {},
   "outputs": [],
   "source": [
    "def euclidean_distance(p, q):\n",
    "    result = np.sqrt(np.square(q[0] - p[0]) + np.square(q[1] - p[1]))\n",
    "    print(result)\n",
    "    return result"
   ]
  },
  {
   "cell_type": "markdown",
   "metadata": {
    "jupyter": {
     "source_hidden": true
    }
   },
   "source": [
    "## Solution 1\n",
    "DataFrame solution\n",
    "\n",
    "**Jason said to solve this without dataframes**"
   ]
  },
  {
   "cell_type": "code",
   "execution_count": 8,
   "metadata": {
    "jupyter": {
     "source_hidden": true
    }
   },
   "outputs": [],
   "source": [
    "def euclid_dist_helper(row, airport):\n",
    "    return euclidean_distance((row['x'], row['y']), airport)\n",
    "def f(a, b):\n",
    "    return (a, b)\n",
    "\n",
    "df = pd.DataFrame(test_input_1, columns=['x', 'y'])\n",
    "df['distance'] = df.apply(lambda x: euclid_dist_helper(x, test_origin_1), axis=1)\n",
    "current_min = df['distance'].min()\n",
    "closest_planes_df = df.sort_values(by=['distance'], ascending=True).head(num_airports)\n",
    "closest_planes_df.drop(columns=['distance'])\n",
    "result = [f(a, b) for a, b in zip(closest_planes_df['x'], closest_planes_df['y'])]"
   ]
  },
  {
   "cell_type": "markdown",
   "metadata": {},
   "source": [
    "# Solution 2\n",
    "\n",
    "Iterate through the list of airplane coordinates at O(n) and calculate it's distance. For the first m = num_airplanes, store (coordinate, distance) into a **max-heap** where priority is set by distance. This is so we can peak the element with the greatest distance in the heap of length m at O(1) time, and insert/delete things at O(log(n)) time. After the first m length prio_queue is made, you just iterate through the rest of the coordinates and update the priority_queue respectively\n",
    "\n",
    "## Notes\n",
    "- Python offers heappq as a library, however it specifically in Py, it is a min-heap\n",
    "- Should look into heap / bst implementation options then implement your own Priority Queue\n",
    "- Using a Max Heap > Priority Queue as a Priority Queue is an abstraction ontop of a Max Heap, but all we need is the max at any given time and swap it out as needed"
   ]
  },
  {
   "cell_type": "markdown",
   "metadata": {},
   "source": [
    "## Max Heap Implementation"
   ]
  },
  {
   "cell_type": "code",
   "execution_count": 27,
   "metadata": {},
   "outputs": [],
   "source": [
    "class MaxHeap():\n",
    "    def __init__(self, capacity):\n",
    "        self.capacity = capacity # Note that capacity != len(list), rather its the max index\n",
    "        self.size = 0\n",
    "        self.items = [0] * self.capacity #inits a list of 0s where len() == self.capacity. This is why we need to set our own size\n",
    "    \n",
    "    # Retrieval \n",
    "    def get_parent_index(self, i):\n",
    "        return (i-2)//2\n",
    "    \n",
    "    def get_left_child_index(self, i):\n",
    "        return i*2+1\n",
    "    \n",
    "    def get_right_child(i):\n",
    "        return i*2-1\n",
    "    \n",
    "    def get_parent(self, i):\n",
    "        return self.items[self.get_parent_index(i)]\n",
    "    \n",
    "    def get_left_child(self, i):\n",
    "        return self.items[self.get_left_child_index(i)]\n",
    "    \n",
    "    def get_right_child(self, i):\n",
    "        return self.items[self.get_right_child_index(i)]\n",
    "    \n",
    "    # Inspection\n",
    "    def peak():\n",
    "        return self.items[0]\n",
    "    \n",
    "    def has_parent(self, i):\n",
    "        return self.get_parent_index(i) >= 0\n",
    "    \n",
    "    def has_left_child(self, i):\n",
    "        return self.get_left_child_index(i) < self.size\n",
    "    \n",
    "    def has_right_child(self, i):\n",
    "        return self.get_right_child_index(i) < self.size\n",
    "    \n",
    "    # Internal\n",
    "    def is_full(self):\n",
    "        return self.size == self.capacity\n",
    "    \n",
    "    def swap(self, i_1, i_2):\n",
    "        temp = self.items[i_1]\n",
    "        self.items[i_1] = self.items[i_2]\n",
    "        self.items[i_2] = temp\n",
    "    \n",
    "    def bubble_up(self): #aka heapify_up, sift_up, etc. This moves a node at the end of the tree up the tree until it's at its right spot\n",
    "        i = self.size - 1\n",
    "        while self.has_parent(i):\n",
    "            parent_i = self.get_parent_index(i)\n",
    "            print(i)\n",
    "            print(parent_i)\n",
    "            if self.items[i] > self.items[parent_i]:\n",
    "                self.swap(i, parent_i)\n",
    "                i -= 1\n",
    "            else:\n",
    "                break\n",
    "        \n",
    "    # Insert\n",
    "    def insert(self, item):\n",
    "        if(self.is_full()):\n",
    "            raise('Heap is full')\n",
    "        self.items[self.size] = item\n",
    "        self.size += 1\n",
    "        self.bubble_up()"
   ]
  },
  {
   "cell_type": "code",
   "execution_count": 30,
   "metadata": {},
   "outputs": [],
   "source": [
    "def closestN(airplane_coordinates, airplane_loc, num_airplanes):\n",
    "    max_heap = MaxHeap(num_airplanes - 1)\n",
    "    for plane_coords in airplane_coordinates:\n",
    "        print('hello')\n",
    "    return 0"
   ]
  },
  {
   "cell_type": "code",
   "execution_count": null,
   "metadata": {},
   "outputs": [],
   "source": []
  }
 ],
 "metadata": {
  "kernelspec": {
   "display_name": "Python 3",
   "language": "python",
   "name": "python3"
  },
  "language_info": {
   "codemirror_mode": {
    "name": "ipython",
    "version": 3
   },
   "file_extension": ".py",
   "mimetype": "text/x-python",
   "name": "python",
   "nbconvert_exporter": "python",
   "pygments_lexer": "ipython3",
   "version": "3.8.5"
  }
 },
 "nbformat": 4,
 "nbformat_minor": 5
}
