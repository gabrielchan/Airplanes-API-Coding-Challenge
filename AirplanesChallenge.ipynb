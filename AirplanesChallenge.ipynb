{
 "cells": [
  {
   "cell_type": "markdown",
   "id": "living-function",
   "metadata": {},
   "source": [
    "# Airplanes API Question from Jason Sinn\n",
    "\n",
    "Create an API `def closestN(airplane_coordinates: Array[(x, y)], airplane_loc: (x, y), num_airplanes: Int): Array[(x, y)]` where `type((x, y)) = tuple(int, int))`. cloestN will take the airplane coordinates and a airport location, then return the number of airplanes closest to the airport\n",
    "\n",
    "## Clarifications\n",
    "1. `airplane_coordinates` is not sorted\n",
    "2. Use Cartesian Distance\n",
    "3. x, y can be negative numbers\n",
    "4. Resulting array's order does not matter\n",
    "5. (New!) Don't use the DataFrame structure"
   ]
  },
  {
   "cell_type": "markdown",
   "id": "confident-expense",
   "metadata": {},
   "source": [
    "## Rough Notes from Gabe\n",
    "- A high-level solution would be to calculate all the cartesian distance of every coordinate (keeping track of the minimum while going through) at O(n), then tracing the results again for the minimum"
   ]
  },
  {
   "cell_type": "markdown",
   "id": "bibliographic-conflict",
   "metadata": {},
   "source": [
    "# Code"
   ]
  },
  {
   "cell_type": "markdown",
   "id": "portuguese-heath",
   "metadata": {},
   "source": [
    "## Sample Data"
   ]
  },
  {
   "cell_type": "code",
   "execution_count": 1,
   "id": "speaking-naples",
   "metadata": {},
   "outputs": [],
   "source": [
    "test_input_1 = [\n",
    "    (0, 1),\n",
    "    (1, 0),\n",
    "    (0, -1),\n",
    "    (-1, 0),\n",
    "    (1, 1),\n",
    "    (1, -1),\n",
    "    (-1, 1),\n",
    "    (-1, -1)\n",
    "]\n",
    "result_input_1 = [\n",
    "    (0, 1),\n",
    "    (1, 0),\n",
    "    (0, -1),\n",
    "    (-1, 0),\n",
    "    (1, 1),\n",
    "    (1, -1),\n",
    "    (-1, 1),\n",
    "    (-1, -1)\n",
    "]\n",
    "test_origin_1 = (0, 0)"
   ]
  },
  {
   "cell_type": "markdown",
   "id": "inside-throat",
   "metadata": {},
   "source": [
    "## Global Imports"
   ]
  },
  {
   "cell_type": "code",
   "execution_count": 2,
   "id": "eleven-sight",
   "metadata": {},
   "outputs": [],
   "source": [
    "import pandas as pd"
   ]
  },
  {
   "cell_type": "code",
   "execution_count": 3,
   "id": "qualified-hampton",
   "metadata": {},
   "outputs": [],
   "source": [
    "import numpy as np"
   ]
  },
  {
   "cell_type": "markdown",
   "id": "enclosed-plumbing",
   "metadata": {},
   "source": [
    "## General Functions"
   ]
  },
  {
   "cell_type": "code",
   "execution_count": 5,
   "id": "linear-gravity",
   "metadata": {
    "tags": []
   },
   "outputs": [],
   "source": [
    "def closestN(airplane_coordinates, airport_loc, num_airports):\n",
    "    return solution_1(airplane_coordinates, airport_loc, num_airports)"
   ]
  },
  {
   "cell_type": "code",
   "execution_count": 6,
   "id": "shared-military",
   "metadata": {},
   "outputs": [],
   "source": [
    "def euclidean_distance(p, q):\n",
    "    result = np.sqrt(np.square(q[0] - p[0]) + np.square(q[1] - p[1]))\n",
    "    print(result)\n",
    "    return result"
   ]
  },
  {
   "cell_type": "code",
   "execution_count": 7,
   "id": "gross-stations",
   "metadata": {},
   "outputs": [],
   "source": [
    "num_airports = 2"
   ]
  },
  {
   "cell_type": "markdown",
   "id": "legal-hands",
   "metadata": {},
   "source": [
    "## Solution 1\n",
    "DataFrame solution\n",
    "\n",
    "**Jason said to solve this without dataframes**"
   ]
  },
  {
   "cell_type": "code",
   "execution_count": 8,
   "id": "alert-multimedia",
   "metadata": {},
   "outputs": [],
   "source": [
    "df = pd.DataFrame(test_input_1, columns=['x', 'y'])"
   ]
  },
  {
   "cell_type": "code",
   "execution_count": 9,
   "id": "golden-disney",
   "metadata": {},
   "outputs": [],
   "source": [
    "def euclid_dist_helper(row, airport):\n",
    "    return euclidean_distance((row['x'], row['y']), airport)"
   ]
  },
  {
   "cell_type": "code",
   "execution_count": 10,
   "id": "completed-offer",
   "metadata": {},
   "outputs": [
    {
     "name": "stdout",
     "output_type": "stream",
     "text": [
      "1.0\n",
      "1.0\n",
      "1.0\n",
      "1.0\n",
      "1.4142135623730951\n",
      "1.4142135623730951\n",
      "1.4142135623730951\n",
      "1.4142135623730951\n"
     ]
    }
   ],
   "source": [
    "df['distance'] = df.apply(lambda x: euclid_dist_helper(x, test_origin_1), axis=1)"
   ]
  },
  {
   "cell_type": "code",
   "execution_count": 11,
   "id": "curious-decrease",
   "metadata": {},
   "outputs": [],
   "source": [
    "current_min = df['distance'].min()"
   ]
  },
  {
   "cell_type": "code",
   "execution_count": 12,
   "id": "animated-index",
   "metadata": {},
   "outputs": [],
   "source": [
    "closest_planes_df = df.sort_values(by=['distance'], ascending=True).head(num_airports)"
   ]
  },
  {
   "cell_type": "code",
   "execution_count": 13,
   "id": "infinite-helen",
   "metadata": {},
   "outputs": [
    {
     "data": {
      "text/html": [
       "<div>\n",
       "<style scoped>\n",
       "    .dataframe tbody tr th:only-of-type {\n",
       "        vertical-align: middle;\n",
       "    }\n",
       "\n",
       "    .dataframe tbody tr th {\n",
       "        vertical-align: top;\n",
       "    }\n",
       "\n",
       "    .dataframe thead th {\n",
       "        text-align: right;\n",
       "    }\n",
       "</style>\n",
       "<table border=\"1\" class=\"dataframe\">\n",
       "  <thead>\n",
       "    <tr style=\"text-align: right;\">\n",
       "      <th></th>\n",
       "      <th>x</th>\n",
       "      <th>y</th>\n",
       "    </tr>\n",
       "  </thead>\n",
       "  <tbody>\n",
       "    <tr>\n",
       "      <th>0</th>\n",
       "      <td>0</td>\n",
       "      <td>1</td>\n",
       "    </tr>\n",
       "    <tr>\n",
       "      <th>1</th>\n",
       "      <td>1</td>\n",
       "      <td>0</td>\n",
       "    </tr>\n",
       "  </tbody>\n",
       "</table>\n",
       "</div>"
      ],
      "text/plain": [
       "   x  y\n",
       "0  0  1\n",
       "1  1  0"
      ]
     },
     "execution_count": 13,
     "metadata": {},
     "output_type": "execute_result"
    }
   ],
   "source": [
    "closest_planes_df.drop(columns=['distance'])"
   ]
  },
  {
   "cell_type": "code",
   "execution_count": 14,
   "id": "present-equation",
   "metadata": {},
   "outputs": [],
   "source": [
    "def f(a, b):\n",
    "    return (a, b)\n",
    "result = [f(a, b) for a, b in zip(closest_planes_df['x'], closest_planes_df['y'])]"
   ]
  },
  {
   "cell_type": "code",
   "execution_count": 15,
   "id": "historic-penguin",
   "metadata": {},
   "outputs": [
    {
     "name": "stdout",
     "output_type": "stream",
     "text": [
      "[(0, 1), (1, 0)]\n"
     ]
    }
   ],
   "source": [
    "print(result)"
   ]
  },
  {
   "cell_type": "markdown",
   "id": "prime-kingdom",
   "metadata": {},
   "source": [
    "# Solution 2\n",
    "\n",
    "Iterate through the list of airplane coordinates at O(n) and calculate it's distance. For the first m = num_airplanes, store (coordinate, distance) into a **priority queue with a heap** where priority is set by distance. This is so we can peak the element with the greatest distance in prio_queue of length m at O(1) time, and insert/delete things at O(log(n)) time. After the first m length prio_queue is made, you just iterate through the rest of the coordinates and update the priority_queue respectively\n",
    "\n",
    "## Notes\n",
    "- Python offers heappq as a library, however it specifically in Py, it is a min-heap\n",
    "- Should look into heap / bst implementation options then implement your own Priority Queue"
   ]
  },
  {
   "cell_type": "markdown",
   "id": "stunning-knowing",
   "metadata": {},
   "source": [
    "## Priority Queue Implementation"
   ]
  },
  {
   "cell_type": "code",
   "execution_count": 21,
   "id": "qualified-hazard",
   "metadata": {},
   "outputs": [],
   "source": [
    "def heapify():\n",
    "    return 'hello'"
   ]
  },
  {
   "cell_type": "code",
   "execution_count": 22,
   "id": "central-martial",
   "metadata": {},
   "outputs": [],
   "source": [
    "def get_max():\n",
    "    return 'hello'"
   ]
  },
  {
   "cell_type": "code",
   "execution_count": 23,
   "id": "vertical-sheriff",
   "metadata": {},
   "outputs": [],
   "source": [
    "def remove_max():\n",
    "    return 'hello'"
   ]
  },
  {
   "cell_type": "code",
   "execution_count": 20,
   "id": "facial-apartment",
   "metadata": {},
   "outputs": [],
   "source": [
    "def insert():\n",
    "    return 'hello'"
   ]
  }
 ],
 "metadata": {
  "kernelspec": {
   "display_name": "Python 3",
   "language": "python",
   "name": "python3"
  },
  "language_info": {
   "codemirror_mode": {
    "name": "ipython",
    "version": 3
   },
   "file_extension": ".py",
   "mimetype": "text/x-python",
   "name": "python",
   "nbconvert_exporter": "python",
   "pygments_lexer": "ipython3",
   "version": "3.9.1"
  }
 },
 "nbformat": 4,
 "nbformat_minor": 5
}
